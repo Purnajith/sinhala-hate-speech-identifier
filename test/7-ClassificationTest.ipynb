{
  "cells": [
    {
      "metadata": {
        "trusted": true
      },
      "cell_type": "code",
      "source": "from sklearn.datasets import fetch_20newsgroups\nfrom sklearn.model_selection import train_test_split\n\n\ndef get_data():\n    data = fetch_20newsgroups(subset='all',\n                              shuffle=True,\n                              remove=('headers', 'footers', 'quotes'))\n    return data\n\n# Divide the data into training and testing sets\ndef prepare_datasets(corpus, labels, test_data_proportion=0.3):\n    train_X, test_X, train_Y, test_Y = train_test_split(corpus, labels, \n                                                        test_size=0.33, random_state=42)\n    return train_X, test_X, train_Y, test_Y\n\n# We also remove empty documents since they would just add noise\ndef remove_empty_docs(corpus, labels):\n    filtered_corpus = []\n    filtered_labels = []\n    for doc, label in zip(corpus, labels):\n        if doc.strip():\n            filtered_corpus.append(doc)\n            filtered_labels.append(label)\n\n    return filtered_corpus, filtered_labels\n    \n    \ndataset = get_data()\n\nprint(dataset.target_names)\n",
      "execution_count": 1,
      "outputs": [
        {
          "output_type": "stream",
          "text": "Downloading 20news dataset. This may take a few minutes.\nDownloading dataset from https://ndownloader.figshare.com/files/5975967 (14 MB)\n",
          "name": "stderr"
        },
        {
          "output_type": "stream",
          "text": "['alt.atheism', 'comp.graphics', 'comp.os.ms-windows.misc', 'comp.sys.ibm.pc.hardware', 'comp.sys.mac.hardware', 'comp.windows.x', 'misc.forsale', 'rec.autos', 'rec.motorcycles', 'rec.sport.baseball', 'rec.sport.hockey', 'sci.crypt', 'sci.electronics', 'sci.med', 'sci.space', 'soc.religion.christian', 'talk.politics.guns', 'talk.politics.mideast', 'talk.politics.misc', 'talk.religion.misc']\n",
          "name": "stdout"
        }
      ]
    },
    {
      "metadata": {
        "trusted": true
      },
      "cell_type": "code",
      "source": "corpus, labels = dataset.data, dataset.target\ncorpus, labels = remove_empty_docs(corpus, labels)\n\nprint(corpus)\nprint(labels)",
      "execution_count": 2,
      "outputs": [
        {
          "output_type": "stream",
          "text": "IOPub data rate exceeded.\nThe notebook server will temporarily stop sending output\nto the client in order to avoid crashing it.\nTo change this limit, set the config variable\n`--NotebookApp.iopub_data_rate_limit`.\n\nCurrent values:\nNotebookApp.iopub_data_rate_limit=1000000.0 (bytes/sec)\nNotebookApp.rate_limit_window=3.0 (secs)\n\n",
          "name": "stderr"
        }
      ]
    },
    {
      "metadata": {
        "trusted": true
      },
      "cell_type": "code",
      "source": "",
      "execution_count": null,
      "outputs": []
    }
  ],
  "metadata": {
    "kernelspec": {
      "name": "python36",
      "display_name": "Python 3.6",
      "language": "python"
    },
    "language_info": {
      "mimetype": "text/x-python",
      "nbconvert_exporter": "python",
      "name": "python",
      "pygments_lexer": "ipython3",
      "version": "3.6.6",
      "file_extension": ".py",
      "codemirror_mode": {
        "version": 3,
        "name": "ipython"
      }
    }
  },
  "nbformat": 4,
  "nbformat_minor": 2
}