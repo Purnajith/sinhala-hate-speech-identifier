{
  "cells": [
    {
      "metadata": {
        "trusted": true
      },
      "cell_type": "code",
      "source": [
        "!pip install nltk\n",
        "!pip install pandas\n",
        "\n",
        "\n",
        "\n",
        "import csv\n",
        "import pandas as pd\n",
        "import os\n",
        "\n",
        "import re\n",
        "import nltk\n",
        "import string\n",
        "nltk.download('punkt')\n",
        "\n",
        "resourceFolder = 'resources'\n",
        "outputFolder = 'output'\n",
        "\n",
        "\n",
        "def getResourceFolderPath(fileName) : \n",
        "    return  os.path.join(os.path.join(os.getcwd(), resourceFolder), fileName)\n",
        "def getOutputFolderPath(folder, fileName) : \n",
        "    return  os.path.join(os.path.join(os.path.join(os.getcwd(), outputFolder), folder), fileName)\n",
        "\n",
        "def loadCSVData(path):\n",
        "    return pd.read_csv(getResourceFolderPath(path), encoding=\"utf-8\")\n",
        "\n",
        "def loadTxtData(path, sep, columns, encoding = \"utf-8\"):\n",
        "    result = pd.read_csv(getResourceFolderPath(path), sep, header=None, engine='python', encoding= encoding)\n",
        "    result.columns = columns\n",
        "    return result\n",
        "\n",
        "def getFullPath(folder, file):\n",
        "    if not os.path.exists(outputFolder):\n",
        "        os.mkdir(outputFolder)\n",
        "    folder = os.path.join(outputFolder, folder)\n",
        "    if not os.path.exists(folder):\n",
        "        os.mkdir(folder)\n",
        "    return os.path.join(folder, file)    \n",
        "\n",
        "def writeCSV(folder,file, list):\n",
        "    with open(getFullPath(folder, file), \"w\", newline=\"\", encoding='utf-8') as f:\n",
        "        writer = csv.writer(f)\n",
        "        writer.writerows(list)\n",
        "\n",
        "def writeDFCSV(folder,file, dataframe):\n",
        "    dataframe.to_csv(getFullPath(folder, file))\n",
        "\n"
      ],
      "execution_count": 3,
      "outputs": [
        {
          "output_type": "stream",
          "text": "Requirement already satisfied: nltk in /home/nbuser/anaconda3_501/lib/python3.6/site-packages (3.3)\nRequirement already satisfied: six in /home/nbuser/anaconda3_501/lib/python3.6/site-packages (from nltk) (1.11.0)\nRequirement already satisfied: pandas in /home/nbuser/anaconda3_501/lib/python3.6/site-packages (0.23.4)\nRequirement already satisfied: numpy>=1.9.0 in /home/nbuser/anaconda3_501/lib/python3.6/site-packages (from pandas) (1.16.2)\nRequirement already satisfied: pytz>=2011k in /home/nbuser/anaconda3_501/lib/python3.6/site-packages (from pandas) (2018.7)\nRequirement already satisfied: python-dateutil>=2.5.0 in /home/nbuser/anaconda3_501/lib/python3.6/site-packages (from pandas) (2.8.0)\nRequirement already satisfied: six>=1.5 in /home/nbuser/anaconda3_501/lib/python3.6/site-packages (from python-dateutil>=2.5.0->pandas) (1.11.0)\n[nltk_data] Downloading package punkt to /home/nbuser/nltk_data...\n[nltk_data]   Package punkt is already up-to-date!\n",
          "name": "stdout"
        }
      ]
    },
    {
      "metadata": {},
      "cell_type": "markdown",
      "source": [
        "### Answer (a)\n",
        "\n",
        "1. removing any remaining irrelevant content such as non-alphanumeric characters and possible extraneous html tags, \n",
        "2. tokenizing the text by separating into individual words \n",
        "3. converting the case of the ‘Singlish’ tokens to obtain unique words. \n",
        "4. separate the data into two sets – one for Sinhala and the other for ‘Singlish’ entries and print the percentage of entries in the two sets"
      ]
    },
    {
      "metadata": {
        "trusted": true
      },
      "cell_type": "code",
      "source": [
        "\n",
        "#clear the given text using regex \n",
        "def cleanText(text):\n",
        "    stripped = text.strip()\n",
        "    PATTERN = r'[,|.|?|$|#|!|&|*|%|@|(|)|~|^0-9]'\n",
        "    result = re.sub(PATTERN, r'', stripped)\n",
        "    return result.lower().replace('\"', '') \n",
        "\n",
        "# create a list of tokens for for the given text \n",
        "def tokenize(text):\n",
        "    sentences = nltk.sent_tokenize(text)\n",
        "    wordTokens = [nltk.word_tokenize(sentence) for sentence in sentences]\n",
        "    return wordTokens\n",
        "\n",
        "# clear the text after tokenization\n",
        "def cleanAftertokenization(tokens):\n",
        "    pattern = re.compile('[{}]'.format(re.escape(string.punctuation)))\n",
        "    filteredTokens =  filter(None, [pattern.sub('', token) for token in tokens])\n",
        "    return [token for token in tokens if pattern.sub('', token) != None]\n",
        "\n",
        "\n",
        "# check if given string is english \n",
        "# we use encoding methods to identify if it passes anexception we it will be a sinhala text \n",
        "def isWordEnglish(s):\n",
        "    try:\n",
        "        s.encode(encoding='utf-8').decode('ascii')\n",
        "    except UnicodeDecodeError:\n",
        "        return False\n",
        "    else:\n",
        "        return True\n",
        "\n",
        "# retrun the word if it matches the passed lanaguage else none \n",
        "def checkGetWordByLanguage(word,isEnglish):\n",
        "    if (isEnglish and isWordEnglish(word) or ((not isEnglish) and (not isWordEnglish(word)))):\n",
        "        return word\n",
        "    else :\n",
        "        return None\n",
        "\n",
        "# create a list for the given language\n",
        "def createLanguageSeparatedList(list,isEnglish):\n",
        "    # select only sinhala words\n",
        "    return [text for text in list if checkGetWordByLanguage(text, isEnglish) != None]\n",
        "\n",
        "# results for part 1 \n",
        "def part1result(outputResult = False):\n",
        "    # load the data \n",
        "    data = loadCSVData('Sinhala_Singlish_Hate_Speech.csv')\n",
        "    #clear \n",
        "    data[\"CleanedPhrase\"] = data[\"Phrase\"].apply(cleanText)\n",
        "    # tokenize\n",
        "    data[\"TokenFullList\"] = data[\"CleanedPhrase\"].apply(tokenize)\n",
        "    # convert to a single list\n",
        "    data[\"SingleList\"] = [fullsentence for line in data[\"TokenFullList\"] for fullsentence in line]\n",
        "    #final tokens \n",
        "    data[\"Tokens\"] = data[\"SingleList\"].apply(cleanAftertokenization)\n",
        "    # sinhala only token list \n",
        "    data[\"SinhalaTokens\"] = [createLanguageSeparatedList(tokens, False) for tokens in data[\"Tokens\"] ]\n",
        "    # english/singli\n",
        "    data[\"EnglishTokens\"] = [createLanguageSeparatedList(tokens, True) for tokens in data[\"Tokens\"] ]\n",
        "    data[\"TokenCount\"] = data.apply(lambda row: len(row.Tokens), axis=1)\n",
        "    data[\"SinhalaTokenCount\"] = data.apply(lambda row: len(row.SinhalaTokens), axis=1)\n",
        "    data[\"EnglishTokenCount\"] = data.apply(lambda row: len(row.EnglishTokens), axis=1)\n",
        "    # calculate the percentages\n",
        "    data[\"SinhalaTokenPercentage\"] = data.apply(lambda row: (  row.SinhalaTokenCount / row.TokenCount) * 100, axis=1)\n",
        "    data[\"EnglishTokenPercentage\"] = data.apply(lambda row: (  row.EnglishTokenCount / row.TokenCount) * 100, axis=1)\n",
        "    \n",
        "    # need to do  spelling\n",
        "    \n",
        "    # print as csv\n",
        "    if(outputResult):\n",
        "        writeDFCSV(\"part1\", \"result.csv\", data)\n",
        "        writeCSV(\"part1\", \"sinhala-word-list.csv\", data[\"SinhalaTokens\"].tolist())\n",
        "        writeCSV(\"part1\", \"english-word-list.csv\", data[\"EnglishTokens\"].tolist())\n",
        "    \n",
        "    datashow = data[['PhraseNo', 'SinhalaTokenPercentage', 'EnglishTokenPercentage', 'IsHateSpeech']].copy()\n",
        "\n",
        "    print(datashow)\n",
        "    \n",
        "    return data\n",
        "\n",
        "data = part1result(False)\n"
      ],
      "execution_count": 17,
      "outputs": [
        {
          "output_type": "stream",
          "text": "      PhraseNo  SinhalaTokenPercentage  EnglishTokenPercentage IsHateSpeech\n0            1              100.000000                0.000000          YES\n1            2              100.000000                0.000000          YES\n2            3              100.000000                0.000000           NO\n3            4              100.000000                0.000000          YES\n4            5              100.000000                0.000000          YES\n5            6              100.000000                0.000000          YES\n6            7              100.000000                0.000000          YES\n7            8                0.000000              100.000000          YES\n8            9              100.000000                0.000000          YES\n9           10              100.000000                0.000000          YES\n10          11              100.000000                0.000000          YES\n11          12                0.000000              100.000000          YES\n12          13                0.000000              100.000000          YES\n13          14                0.000000              100.000000          YES\n14          15                0.000000              100.000000          YES\n15          16                0.000000              100.000000          YES\n16          17               14.285714               85.714286          YES\n17          18              100.000000                0.000000          YES\n18          19                0.000000              100.000000          YES\n19          20               66.666667               33.333333          YES\n20          21                0.000000              100.000000          YES\n21          22              100.000000                0.000000          YES\n22          23              100.000000                0.000000          YES\n23          24              100.000000                0.000000          YES\n24          25              100.000000                0.000000          YES\n25          26               94.117647                5.882353          YES\n26          27              100.000000                0.000000          YES\n27          28                0.000000              100.000000          YES\n28          29              100.000000                0.000000          YES\n29          30              100.000000                0.000000          YES\n...        ...                     ...                     ...          ...\n2470      2471                0.000000              100.000000           NO\n2471      2472                0.000000              100.000000           NO\n2472      2473               73.684211               26.315789           NO\n2473      2474               69.565217               30.434783           NO\n2474      2475              100.000000                0.000000           NO\n2475      2476                0.000000              100.000000           NO\n2476      2477                0.000000              100.000000           NO\n2477      2478               83.333333               16.666667           NO\n2478      2479                0.000000              100.000000           NO\n2479      2480                0.000000              100.000000           NO\n2480      2481                0.000000              100.000000           NO\n2481      2482              100.000000                0.000000           NO\n2482      2483              100.000000                0.000000           NO\n2483      2484              100.000000                0.000000           NO\n2484      2485                0.000000              100.000000           NO\n2485      2486                0.000000              100.000000           NO\n2486      2487                0.000000              100.000000           NO\n2487      2488                0.000000              100.000000           NO\n2488      2489              100.000000                0.000000           NO\n2489      2490              100.000000                0.000000           NO\n2490      2491                0.000000              100.000000           NO\n2491      2492                0.000000              100.000000           NO\n2492      2493               63.636364               36.363636           NO\n2493      2494               90.476190                9.523810           NO\n2494      2495               93.333333                6.666667           NO\n2495      2496               72.222222               27.777778           NO\n2496      2497              100.000000                0.000000           NO\n2497      2498               92.307692                7.692308           NO\n2498      2499              100.000000                0.000000           NO\n2499      2500               50.000000               50.000000           NO\n\n[2500 rows x 4 columns]\n",
          "name": "stdout"
        }
      ]
    },
    {
      "metadata": {},
      "cell_type": "markdown",
      "source": [
        "- We have cleaned the data set and then tokanized.\n",
        "- Separated to two columns in the data frame for futher use "
      ]
    },
    {
      "metadata": {},
      "cell_type": "markdown",
      "source": [
        "### Answer (b)\n",
        "\n",
        "1. remove the so called stopwords \n",
        "2. to stem the rest of the words. Print the number of total tokens\n",
        "3. the number of unique tokens before this step and after each of the above two steps for the Sinhala dataset."
      ]
    },
    {
      "metadata": {
        "trusted": true
      },
      "cell_type": "code",
      "source": [
        "# removes stop words in the list using the passed stop word list \n",
        "def removeStopwords(stopwords, tokens):\n",
        "    return [token for token in tokens if token not in stopwords]\n",
        "\n",
        "# updates stem words according to passed stem list and returns the list of tokens \n",
        "def updateToStem(stemWordList, tokens):\n",
        "    result = []\n",
        "    for token in tokens:\n",
        "        row = stemWordList[stemWordList[\"word\"] == token]\n",
        "        if not row.empty :\n",
        "            result.append(row[\"stem\"].values.tolist()[0])\n",
        "        else :\n",
        "            result.append(token)\n",
        "    return result\n",
        "\n",
        "def part2result(data, outputResult = False):\n",
        "    # load stop words \n",
        "    stopwords = loadTxtData('StopWords.txt', '\\t', ['stopword', 'number'], \"utf16\")\n",
        "    # load stem words\n",
        "    stemwords = loadTxtData('stem_dictionary.txt', '\\t', ['word', 'stem'])\n",
        "    # create list after stop word removal\n",
        "    data[\"AfterStopWord\"] = [removeStopwords(stopwords[\"stopword\"].values.tolist(), tokenList) for tokenList in data[\"Tokens\"]]\n",
        "    # create list after stemming \n",
        "    data[\"FullTokens\"] = [updateToStem(stemwords, tokenList) for tokenList in data[\"AfterStopWord\"]]\n",
        "    # sinhala only token list \n",
        "    data[\"FullSinhalaTokens\"] = [createLanguageSeparatedList(tokens, False) for tokens in data[\"FullTokens\"] ]\n",
        "    # english/singlish token list \n",
        "    data[\"FullEnglishTokens\"] = [createLanguageSeparatedList(tokens, True) for tokens in data[\"FullTokens\"] ]\n",
        "    \n",
        "    \n",
        "    data[\"FinalTokenCount\"] = data.apply(lambda row: len(row.FullTokens), axis=1)\n",
        "    data[\"FinalSinhalaTokenCount\"] = data.apply(lambda row: len(row.FullSinhalaTokens), axis=1)\n",
        "    data[\"FinalEnglishTokenCount\"] = data.apply(lambda row: len(row.FullEnglishTokens), axis=1)\n",
        "    \n",
        "    \n",
        "    # clean up the data set \n",
        "    data = data[['PhraseNo', 'TokenCount', 'SinhalaTokenCount', 'EnglishTokenCount', 'FinalTokenCount', 'FinalSinhalaTokenCount', 'FinalEnglishTokenCount' ,'FullTokens', 'FullSinhalaTokens', 'FullEnglishTokens', 'IsHateSpeech']].copy()\n",
        "    \n",
        "    # print as csv\n",
        "    if(outputResult):\n",
        "        writeDFCSV(\"part2\", \"result.csv\", data)\n",
        "        \n",
        "    \n",
        "    print(\"=============== Total Tokens ===============\")\n",
        "    print(\"Total tokens {}\".format(data[\"TokenCount\"].sum()))\n",
        "    print(\"=============== Total Tokens ===============\")\n",
        "    print()\n",
        "\n",
        "    print(\"=============== Maximum Sentence Length ===============\")\n",
        "    print(\"Total tokens {}\".format(data[\"TokenCount\"].max()))\n",
        "    print(\"=============== Maximum Sentence Length ===============\")\n",
        "    print()\n",
        "\n",
        "    print(\"=============== Minimum Sentence Length ===============\")\n",
        "    print(\"Total tokens {}\".format(data[\"TokenCount\"].min()))\n",
        "    print(\"=============== Minimum Sentence Length ===============\")\n",
        "    print()\n",
        "\n",
        "\n",
        "    datashow = data[['PhraseNo', 'TokenCount', 'FinalTokenCount', 'SinhalaTokenCount' , 'FinalSinhalaTokenCount', 'EnglishTokenCount', 'FinalEnglishTokenCount']].copy()\n",
        "\n",
        "    print(datashow)\n",
        "    \n",
        "    \n",
        "    return data\n",
        "\n",
        "data = part2result(data, False)\n"
      ],
      "execution_count": 18,
      "outputs": [
        {
          "output_type": "stream",
          "text": "=============== Total Tokens ===============\nTotal tokens 43041\n=============== Total Tokens ===============\n\n=============== Maximum Sentence Length ===============\nTotal tokens 133\n=============== Maximum Sentence Length ===============\n\n=============== Minimum Sentence Length ===============\nTotal tokens 1\n=============== Minimum Sentence Length ===============\n\n      PhraseNo  TokenCount  FinalTokenCount  SinhalaTokenCount  \\\n0            1          36               32                 36   \n1            2          17               15                 17   \n2            3           4                3                  4   \n3            4           9                9                  9   \n4            5          25               21                 25   \n5            6          36               31                 36   \n6            7          21               18                 21   \n7            8          16               16                  0   \n8            9          20               17                 20   \n9           10          17               15                 17   \n10          11          17               17                 17   \n11          12          25               25                  0   \n12          13          20               20                  0   \n13          14          19               19                  0   \n14          15          19               19                  0   \n15          16          26               26                  0   \n16          17          14               14                  2   \n17          18          11               10                 11   \n18          19           7                7                  0   \n19          20          15               12                 10   \n20          21           8                8                  0   \n21          22          16               16                 16   \n22          23           9                9                  9   \n23          24           9                7                  9   \n24          25          16               14                 16   \n25          26          17               13                 16   \n26          27           7                6                  7   \n27          28          19               19                  0   \n28          29           9                8                  9   \n29          30          11                9                 11   \n...        ...         ...              ...                ...   \n2470      2471          18               18                  0   \n2471      2472          15               15                  0   \n2472      2473          19               17                 14   \n2473      2474          23               22                 16   \n2474      2475           8                7                  8   \n2475      2476          14               14                  0   \n2476      2477          11               11                  0   \n2477      2478           6                6                  5   \n2478      2479           6                6                  0   \n2479      2480           5                5                  0   \n2480      2481           5                5                  0   \n2481      2482           8                8                  8   \n2482      2483           2                1                  2   \n2483      2484           6                6                  6   \n2484      2485           5                5                  0   \n2485      2486           6                6                  0   \n2486      2487           7                7                  0   \n2487      2488           6                6                  0   \n2488      2489           5                5                  5   \n2489      2490           8                8                  8   \n2490      2491           5                5                  0   \n2491      2492           5                5                  0   \n2492      2493          11                9                  7   \n2493      2494          21               19                 19   \n2494      2495          15               13                 14   \n2495      2496          18               17                 13   \n2496      2497          13               10                 13   \n2497      2498          13               12                 12   \n2498      2499          16               12                 16   \n2499      2500          14               13                  7   \n\n      FinalSinhalaTokenCount  EnglishTokenCount  FinalEnglishTokenCount  \n0                         32                  0                       0  \n1                         15                  0                       0  \n2                          3                  0                       0  \n3                          9                  0                       0  \n4                         21                  0                       0  \n5                         31                  0                       0  \n6                         18                  0                       0  \n7                          0                 16                      16  \n8                         17                  0                       0  \n9                         15                  0                       0  \n10                        17                  0                       0  \n11                         0                 25                      25  \n12                         0                 20                      20  \n13                         0                 19                      19  \n14                         0                 19                      19  \n15                         0                 26                      26  \n16                         2                 12                      12  \n17                        10                  0                       0  \n18                         0                  7                       7  \n19                         7                  5                       5  \n20                         0                  8                       8  \n21                        16                  0                       0  \n22                         9                  0                       0  \n23                         7                  0                       0  \n24                        14                  0                       0  \n25                        12                  1                       1  \n26                         6                  0                       0  \n27                         0                 19                      19  \n28                         8                  0                       0  \n29                         9                  0                       0  \n...                      ...                ...                     ...  \n2470                       0                 18                      18  \n2471                       0                 15                      15  \n2472                      12                  5                       5  \n2473                      15                  7                       7  \n2474                       7                  0                       0  \n2475                       0                 14                      14  \n2476                       0                 11                      11  \n2477                       5                  1                       1  \n2478                       0                  6                       6  \n2479                       0                  5                       5  \n2480                       0                  5                       5  \n2481                       8                  0                       0  \n2482                       1                  0                       0  \n2483                       6                  0                       0  \n2484                       0                  5                       5  \n2485                       0                  6                       6  \n2486                       0                  7                       7  \n2487                       0                  6                       6  \n2488                       5                  0                       0  \n2489                       8                  0                       0  \n2490                       0                  5                       5  \n2491                       0                  5                       5  \n2492                       5                  4                       4  \n2493                      17                  2                       2  \n2494                      12                  1                       1  \n2495                      12                  5                       5  \n2496                      10                  0                       0  \n2497                      11                  1                       1  \n2498                      12                  0                       0  \n2499                       6                  7                       7  \n\n[2500 rows x 7 columns]\n",
          "name": "stdout"
        }
      ]
    },
    {
      "metadata": {},
      "cell_type": "markdown",
      "source": [
        "Bar Chart to  demostrate "
      ]
    },
    {
      "metadata": {
        "trusted": true
      },
      "cell_type": "code",
      "source": [
        "import matplotlib\n",
        "import matplotlib.pyplot as plt\n",
        "import numpy as np\n",
        "\n",
        "x = np.arange(len(data[\"PhraseNo\"].values.tolist()))  # the label locations\n",
        "width = 0.70  # the width of the bars\n",
        "\n",
        "fig, ax = plt.subplots()\n",
        "rects1 = ax.bar(x - width/2, data[\"TokenCount\"].values.tolist(), width, label='TokenCount')\n",
        "rects2 = ax.bar(x + width/2, data[\"FinalTokenCount\"].values.tolist(), width, label='FinalTokenCount')\n",
        "\n",
        "# Add some text for labels, title and custom x-axis tick labels, etc.\n",
        "ax.set_ylabel('Scores')\n",
        "ax.set_title('Scores by group and gender')\n",
        "ax.set_xticks(x)\n",
        "ax.set_xticklabels(labels)\n",
        "ax.legend()\n",
        "\n",
        "\n",
        "def autolabel(rects):\n",
        "    for rect in rects:\n",
        "        height = rect.get_height()\n",
        "        ax.annotate('{}'.format(height),\n",
        "                    xy=(rect.get_x() + rect.get_width() / 2, height),\n",
        "                    xytext=(0, 3),  # 3 points vertical offset\n",
        "                    textcoords=\"offset points\",\n",
        "                    ha='center', va='bottom')\n",
        "\n",
        "\n",
        "autolabel(rects1)\n",
        "autolabel(rects2)\n",
        "\n",
        "fig.tight_layout()\n",
        "\n",
        "plt.show()\n"
      ],
      "execution_count": 21,
      "outputs": [
        {
          "output_type": "display_data",
          "data": {
            "image/png": "[encoded data removed]",
            "text/plain": "<Figure size 432x288 with 1 Axes>"
          },
          "metadata": {
            "needs_background": "light"
          }
        }
      ]
    },
    {
      "metadata": {},
      "cell_type": "markdown",
      "source": [
        "### Answer (c)\n",
        "\n",
        "1. Create bag-of-words representations of the Sinhala and Singlish datasets separately.\n",
        "2. Fit logistic regression models2 to the data in order to be able to predict whether a post constitutes hate speech or not using 20% of the data for testing. \n",
        "3. What is the accuracy, precision, recall and f1 measure of this model for the two datasets? \n",
        "4. Print also the confusion matrix in order to see what kind of errors it is making, and comment on it. \n",
        "5. Also check the most important words the model uses to discriminate between hate words and others for each of the two datasets3."
      ]
    },
    {
      "metadata": {
        "trusted": true
      },
      "cell_type": "code",
      "source": [
        "import warnings\n",
        "from sklearn.feature_extraction.text import CountVectorizer\n",
        "from sklearn.model_selection import train_test_split\n",
        "import gensim\n",
        "from sklearn import metrics\n",
        "import numpy as np\n",
        "from sklearn.linear_model import SGDClassifier\n",
        "import re\n",
        "    \n",
        "warnings.filterwarnings('ignore')\n",
        "    \n",
        "#first we divide to train and test data sets \n",
        "\n",
        "def prepare_datasets(corpus, labels, test_data_proportion=0.2):\n",
        "    train_X, test_X, train_Y, test_Y = train_test_split(corpus, labels, \n",
        "                                                        test_size=test_data_proportion, random_state=42)\n",
        "    return train_X, test_X, train_Y, test_Y\n",
        "\n",
        "\n",
        "# First we do feature extraction using Courter Vectorizer\n",
        "\n",
        "def bow_extractor(corpus, ngram_range=(1,1)):\n",
        "    vectorizer = CountVectorizer(min_df=1, ngram_range=ngram_range)\n",
        "    features = vectorizer.fit_transform(corpus)\n",
        "    return vectorizer, features\n",
        "\n",
        "\n",
        "def get_metrics(true_labels, predicted_labels):\n",
        "    \n",
        "    print('Accuracy:', np.round(\n",
        "                        metrics.accuracy_score(true_labels, \n",
        "                                               predicted_labels),\n",
        "                        2))\n",
        "    print('Precision:', np.round(\n",
        "                        metrics.precision_score(true_labels, \n",
        "                                               predicted_labels,\n",
        "                                               average='weighted'),\n",
        "                        2))\n",
        "    print('Recall:', np.round(\n",
        "                        metrics.recall_score(true_labels, \n",
        "                                               predicted_labels,\n",
        "                                               average='weighted'),\n",
        "                        2))\n",
        "    print('F1 Score:', np.round(\n",
        "                        metrics.f1_score(true_labels, \n",
        "                                               predicted_labels,\n",
        "                                               average='weighted'),\n",
        "                        2))\n",
        "                        \n",
        "\n",
        "def train_predict_evaluate_model(classifier, \n",
        "                                 train_features, train_labels, \n",
        "                                 test_features, test_labels, text):\n",
        "    # build model    \n",
        "    classifier.fit(train_features, train_labels)\n",
        "    # predict using model\n",
        "    predictions = classifier.predict(test_features) \n",
        "    # evaluate model prediction performance \n",
        "    print(\"------------------------Model metrice for {}------------------------\".format(text))\n",
        "    get_metrics(true_labels=test_labels, \n",
        "                predicted_labels=predictions)\n",
        "    return predictions \n",
        "\n",
        "def getConfussionMatrix(test_labels, prediction, description):\n",
        "    cm = metrics.confusion_matrix(test_labels, prediction)\n",
        "    pd.DataFrame(cm, index=range(0,2), columns=range(0,2))\n",
        "    \n",
        "    print(\"------------------------Confussion metrice for {}------------------------\".format(description))\n",
        "    \n",
        "    print(\"                     Prediction    \")\n",
        "    print(\"                 P     |    N   \")\n",
        "    print(\"              ---------|---------\")\n",
        "    print(\"               P {0}       {1}   \".format(cm[0][0], cm[0][1]))\n",
        "    print(\"    Actual   ----------|---------\")\n",
        "    print(\"               N {0}       {1}   \".format(cm[1][0], cm[1][1]))    \n",
        "    print(\"                       | \") \n",
        "    \n",
        "    return cm\n",
        "\n",
        "def getCoeeffienct(classiffier, vectorizer, description):\n",
        "    print(\"------------------------Most important words the model for {}  ------------------------\".format(description))\n",
        "    #get the indexes of the maximum 20 coef_ values\n",
        "    max_coef_indexes = classiffier.coef_[0].argsort()[::-1][:20]\n",
        "    \n",
        "    for index in max_coef_indexes:\n",
        "        print(\"   \" + vectorizer.get_feature_names()[index])\n",
        "\n",
        "    # Checking the misclassified documents for error analysis\n",
        "def checkForMisclassified(test_corpus, test_labels, predictor):\n",
        "    num = 0\n",
        "    for document, label, predicted_label in zip(test_corpus, test_labels, predictor):        \n",
        "        if label != predicted_label:\n",
        "            print('Actual Label:', label)\n",
        "            print('Predicted Label:', predicted_label)\n",
        "            print('Document:-')\n",
        "            print(re.sub('\\n', ' ', document))\n",
        "            print()\n",
        "            num += 1\n",
        "            if num == 4:\n",
        "                break\n",
        "                \n",
        "    \n",
        "                \n",
        "def predict(dataframe, corpusText, labelText, splitPercentage, classiffier, description):\n",
        "    # differentiate the data for train and test sets \n",
        "    train_corpus, test_corpus, train_labels, test_labels = prepare_datasets(dataframe[corpusText],\n",
        "                                                                                dataframe[labelText],\n",
        "                                                                                test_data_proportion=splitPercentage)\n",
        "    # bag of words transformation \n",
        "    bow_vectorizer, bow_train_features = bow_extractor(train_corpus)  \n",
        "    bow_test_features = bow_vectorizer.transform(test_corpus)\n",
        "    \n",
        "    bow_predictions = train_predict_evaluate_model(classifier=classiffier,\n",
        "                                                       train_features=bow_train_features,\n",
        "                                                       train_labels=train_labels,\n",
        "                                                       test_features=bow_test_features,\n",
        "                                                       test_labels=test_labels,\n",
        "                                                        text = description)\n",
        "    \n",
        "    # Confusion matrix for the CV based SVM\n",
        "    cm = getConfussionMatrix(test_labels, bow_predictions, description)\n",
        "    \n",
        "    \n",
        "    getCoeeffienct(classiffier, bow_vectorizer, description)\n",
        "    \n",
        "    #print(\"------------------------Mis classified records sample {}------------------------\".format(description))\n",
        "    #checkForMisclassified(test_corpus, test_labels, bow_predictions)\n",
        "    \n",
        "\n",
        "def part3Result(data):\n",
        "    \n",
        "    # create separate dataframes with only sinhala or singlsih content data \n",
        "    data[\"SinhalaFullTokenCount\"] = data.apply(lambda row: len(row.FullSinhalaTokens), axis=1)\n",
        "    data[\"EnglishFullTokenCount\"] = data.apply(lambda row: len(row.FullEnglishTokens), axis=1)\n",
        "    sinhala_corpus = data[data.SinhalaFullTokenCount > 0]\n",
        "    singlish_corpus = data[data.EnglishFullTokenCount > 0]\n",
        "    sinhala_corpus[\"FullText\"] = data.apply(lambda row: ' '.join(row.FullSinhalaTokens), axis=1)\n",
        "    singlish_corpus[\"FullText\"] = data.apply(lambda row: ' '.join(row.FullEnglishTokens), axis=1)\n",
        "    \n",
        "    #predict for sinhala only data set \n",
        "    svm = SGDClassifier(loss='hinge', n_iter=100)\n",
        "    predict(sinhala_corpus, \"FullText\", \"IsHateSpeech\", 0.2, svm, \"Sinhala only data set\")\n",
        "    \n",
        "    #predict for singlish only data set \n",
        "    svm = SGDClassifier(loss='hinge', n_iter=100)\n",
        "    predict(singlish_corpus, \"FullText\", \"IsHateSpeech\", 0.2, svm, \"Singlish only data set\")\n",
        "    \n",
        "part3Result(data)"
      ],
      "execution_count": 22,
      "outputs": [
        {
          "output_type": "stream",
          "text": "------------------------Model metrice for Sinhala only data set------------------------\nAccuracy: 0.65\nPrecision: 0.65\nRecall: 0.65\nF1 Score: 0.64\n------------------------Confussion metrice for Sinhala only data set------------------------\n                     Prediction    \n                 P     |    N   \n              ---------|---------\n               P 146       47   \n    Actual   ----------|---------\n               N 80       89   \n                       | \n------------------------Most important words the model for Sinhala only data set  ------------------------\n   ජම\n   මරල\n   ඉග\n   ඇම\n   පකය\n   ආන\n   රව\n   පලයව\n   සමනල\n   කවලවම\n   ජනප\n   බණට\n   බළ\n   ඇර\n   කහන\n   රඟප\n   එර\n   හශ\n   ඇගට\n   දඬ\n------------------------Model metrice for Singlish only data set------------------------\nAccuracy: 0.65\nPrecision: 0.66\nRecall: 0.65\nF1 Score: 0.65\n------------------------Confussion metrice for Singlish only data set------------------------\n                     Prediction    \n                 P     |    N   \n              ---------|---------\n               P 80       45   \n    Actual   ----------|---------\n               N 30       59   \n                       | \n------------------------Most important words the model for Singlish only data set  ------------------------\n   fity\n   clip\n   twitter\n   noize\n   ekak\n   channel\n   help\n   unp\n   set\n   head\n   suppper\n   wedding\n   samaga\n   tika\n   ban\n   danna\n   munta\n   toilet\n   obalaatakmidkarannapramaadaunaamamakaamakaningamndansalabaluwegoodakpinamatitumaniupadinaaatmayakaraajiyatarajikmaweewaapoohoodinabudusaranaii\n   profile\n",
          "name": "stdout"
        }
      ]
    },
    {
      "metadata": {},
      "cell_type": "markdown",
      "source": [
        "- We create separate data frames \n",
        "- Get full text for those data frames \n",
        "- Pass it for the predecion  "
      ]
    },
    {
      "metadata": {},
      "cell_type": "markdown",
      "source": [
        "### Answer (d)\n",
        "\n",
        "1. Repeat step (c) treating the full data set (Sinhala and ‘Singlish’) as one and compare the results with (c). \n",
        "2. Based on your results, decide whether to process these two data sets together or separately for the following tasks.\n"
      ]
    },
    {
      "metadata": {
        "trusted": true
      },
      "cell_type": "code",
      "source": [
        "def partDResult(data):\n",
        "    \n",
        "    # create separate dataframes with only sinhala or singlsih content data \n",
        "    data[\"FullText\"] = data.apply(lambda row: ' '.join(row.FullTokens), axis=1)\n",
        "    \n",
        "    #predict for sinhala only data set \n",
        "    svm = SGDClassifier(loss='hinge', n_iter=100)\n",
        "    predict(data, \"FullText\", \"IsHateSpeech\", 0.2, svm, \"Full data set\")\n",
        "    \n",
        "partDResult(data)"
      ],
      "execution_count": 23,
      "outputs": [
        {
          "output_type": "stream",
          "text": "------------------------Model metrice for Full data set------------------------\nAccuracy: 0.67\nPrecision: 0.67\nRecall: 0.67\nF1 Score: 0.66\n------------------------Confussion metrice for Full data set------------------------\n                     Prediction    \n                 P     |    N   \n              ---------|---------\n               P 215       57   \n    Actual   ----------|---------\n               N 109       119   \n                       | \n------------------------Most important words the model for Full data set  ------------------------\n   ජම\n   අගම\n   මරල\n   ලකණ\n   පකය\n   නමට\n   ලකන\n   මමද\n   පලයව\n   රව\n   ආන\n   මචන\n   මස\n   කහන\n   කනව\n   වද\n   රවන\n   එතන\n   තරල\n   ඵළ\n",
          "name": "stdout"
        }
      ]
    },
    {
      "metadata": {},
      "cell_type": "markdown",
      "source": [
        " - We run the same way for full text \n",
        " \n",
        " ### Part D\n",
        "\n",
        "2. Based on your results, decide whether to process these two data sets together or separately for the following tasks.\n",
        "\n",
        "*Based on the above results combining and running it gives better results compared to separated corpuses*\n",
        "\n"
      ]
    },
    {
      "metadata": {},
      "cell_type": "markdown",
      "source": [
        "### Answer (e)\n",
        "\n",
        "1. Implement a logistic regression model to the dataset after transforming it to their tf-idf values4. \n",
        "2. In order to test the stability of the predictive power of this model, this time compute the cross-validation scores for accuracy, precision, recall and f1 score for it. \n",
        "3. Also check the most important words the model uses to discriminate between relevant and irrelevant words as before."
      ]
    },
    {
      "metadata": {
        "trusted": true
      },
      "cell_type": "code",
      "source": [
        "# Insert #represent the tokens in a count vector\n",
        "from sklearn.feature_extraction.text import TfidfVectorizer\n",
        "from sklearn.model_selection import cross_val_score\n",
        "from sklearn.linear_model import LogisticRegression\n",
        "from functools import partial\n",
        "from sklearn.metrics import precision_score, recall_score, f1_score, make_scorer\n",
        "\n",
        "\n",
        "def tfidf_extractor(corpus, ngram_range=(1,1)):\n",
        "    \n",
        "    vectorizer = TfidfVectorizer(min_df=1, \n",
        "                                 norm='l2',\n",
        "                                 smooth_idf=True,\n",
        "                                 use_idf=True,\n",
        "                                 ngram_range=ngram_range)\n",
        "    features = vectorizer.fit_transform(corpus)\n",
        "    return vectorizer, features\n",
        "\n",
        "\n",
        "#printing the measurements for cross validation for 5 flods\n",
        "def print_cross_validation_model_measurements(model, data_test, label_test):       \n",
        "    \n",
        "    #https://stackoverflow.com/a/39197222\n",
        "    #https://github.com/scikit-learn/scikit-learn/issues/3570\n",
        "    precision_scorer = make_scorer(precision_score, pos_label='YES')\n",
        "    recall_scorer = make_scorer(recall_score, pos_label='YES')\n",
        "    f1_scorer = make_scorer(f1_score, pos_label='YES')\n",
        "    \n",
        "    acuuracy = cross_val_score(model, data_test, label_test, cv=5)\n",
        "    precision = cross_val_score(model, data_test, label_test, cv=5, scoring=precision_scorer)\n",
        "    recall = cross_val_score(model, data_test, label_test, cv=5, scoring=recall_scorer)\n",
        "    f1_score_result = cross_val_score(model, data_test, label_test, cv=5, scoring=f1_scorer)\n",
        "\n",
        "    print(\"Accuracy of cross validated logistic regression : %0.2f (+/- %0.2f)\" % (acuuracy.mean(), acuuracy.std() * 2))\n",
        "    print(\"Precision of cross validated logistic regression : %0.2f (+/- %0.2f)\" % (precision.mean(), precision.std() * 2))\n",
        "    print(\"Recall of cross validated logistic regression : %0.2f (+/- %0.2f)\" % (recall.mean(), recall.std() * 2))\n",
        "    print(\"F1-Score of cross validated logistic regression : %0.2f (+/- %0.2f)\" % (f1_score_result.mean(), f1_score_result.std() * 2))\n",
        "    \n",
        "\n",
        "def predictLogisticalRegression(dataframe, corpusText, labelText, splitPercentage, classifier, description, ngrams, runCoeffecient = True):\n",
        "    # differentiate the data for train and test sets \n",
        "    train_corpus, test_corpus, train_labels, test_labels = prepare_datasets(dataframe[corpusText],\n",
        "                                                                                dataframe[labelText],\n",
        "                                                                                test_data_proportion=splitPercentage)\n",
        "    \n",
        "    tfidf_vectorizer, tfidf_train_features = tfidf_extractor(train_corpus, ngrams)  \n",
        "    tfidf_test_features = tfidf_vectorizer.transform(test_corpus)\n",
        "    \n",
        "    \n",
        "    \n",
        "    # bag of words transformation \n",
        "    tfidf_vectorizer, tfidf_feature = tfidf_extractor(data[corpusText])\n",
        "    \n",
        "    tfidf_predictions = train_predict_evaluate_model(classifier=classifier,\n",
        "                                                       train_features=tfidf_train_features,\n",
        "                                                       train_labels=train_labels,\n",
        "                                                       test_features=tfidf_test_features,\n",
        "                                                       test_labels=test_labels,\n",
        "                                                        text = description)\n",
        "    \n",
        "    print_cross_validation_model_measurements(classifier, tfidf_feature, data[labelText])\n",
        "    \n",
        "    cm = getConfussionMatrix(test_labels, tfidf_predictions, description) \n",
        "    \n",
        "    if runCoeffecient :\n",
        "        getCoeeffienct(classifier, tfidf_vectorizer, description)\n",
        "    \n",
        "    \n",
        "tfidf_model = LogisticRegression(random_state=0, solver='lbfgs', max_iter = 1000)\n",
        "\n",
        "predictLogisticalRegression(data, \"FullText\", \"IsHateSpeech\", 0.2, tfidf_model,  \"Full data set\", (1,1))\n",
        "\n",
        "\n",
        "# pipeline below"
      ],
      "execution_count": 24,
      "outputs": [
        {
          "output_type": "stream",
          "text": "------------------------Model metrice for Full data set------------------------\nAccuracy: 0.67\nPrecision: 0.68\nRecall: 0.67\nF1 Score: 0.65\nAccuracy of cross validated logistic regression : 0.65 (+/- 0.10)\nPrecision of cross validated logistic regression : 0.68 (+/- 0.16)\nRecall of cross validated logistic regression : 0.39 (+/- 0.20)\nF1-Score of cross validated logistic regression : 0.49 (+/- 0.21)\n------------------------Confussion metrice for Full data set------------------------\n                     Prediction    \n                 P     |    N   \n              ---------|---------\n               P 229       43   \n    Actual   ----------|---------\n               N 123       105   \n                       | \n------------------------Most important words the model for Full data set  ------------------------\n   උපක\n   ජනයක\n   උපද\n   එවනව\n   කවරණය\n   උඹලග\n   wunu\n   wedagthm\n   thunema\n   එකල\n   lassanaimn\n   yaddi\n   ගහ\n   wagema\n   tota\n   ඉල\n   නයකට\n   කඩනව\n   එකඟව\n   lassani\n",
          "name": "stdout"
        }
      ]
    },
    {
      "metadata": {},
      "cell_type": "markdown",
      "source": [
        "- We use the same data set to evalute for logistical regression and predict the result . \n",
        "- Provide a cross validation to  demostrate the accuracy  "
      ]
    },
    {
      "metadata": {},
      "cell_type": "markdown",
      "source": [
        "### Answer (f)\n",
        "\n",
        "\n",
        "1. considering context words by building a bag-of-n-grams model "
      ]
    },
    {
      "metadata": {
        "trusted": true
      },
      "cell_type": "code",
      "source": [
        "# run the same logistical regession model with more ngrams \n",
        "predictLogisticalRegression(data, \"FullText\", \"IsHateSpeech\", 0.2, tfidf_model,  \"Full data set\", (1,3), False)"
      ],
      "execution_count": 25,
      "outputs": [
        {
          "output_type": "stream",
          "text": "------------------------Model metrice for Full data set------------------------\nAccuracy: 0.65\nPrecision: 0.66\nRecall: 0.65\nF1 Score: 0.64\nAccuracy of cross validated logistic regression : 0.65 (+/- 0.10)\nPrecision of cross validated logistic regression : 0.68 (+/- 0.16)\nRecall of cross validated logistic regression : 0.39 (+/- 0.20)\nF1-Score of cross validated logistic regression : 0.49 (+/- 0.21)\n------------------------Confussion metrice for Full data set------------------------\n                     Prediction    \n                 P     |    N   \n              ---------|---------\n               P 228       44   \n    Actual   ----------|---------\n               N 130       98   \n                       | \n",
          "name": "stdout"
        }
      ]
    },
    {
      "metadata": {},
      "cell_type": "markdown",
      "source": [
        "### Answer (f.2)\n",
        "\n",
        "2. using semantic embeddings instead of bag-of-word vectors for word representation to model the data. \n",
        "3. Output the performance of the model you create from each of the above in the most meaningful way and comment on the predictive power of the model."
      ]
    },
    {
      "metadata": {
        "trusted": true
      },
      "cell_type": "code",
      "source": [
        "import numpy as np    \n",
        "\n",
        "def average_word_vectors(words, model, vocabulary, num_features):\n",
        "    \n",
        "    feature_vector = np.zeros((num_features,),dtype=\"float64\")\n",
        "    nwords = 0.\n",
        "    \n",
        "    for word in words:\n",
        "        if word in vocabulary: \n",
        "            nwords = nwords + 1.\n",
        "            feature_vector = np.add(feature_vector, model[word])\n",
        "    \n",
        "    if nwords:\n",
        "        feature_vector = np.divide(feature_vector, nwords)\n",
        "        \n",
        "    return feature_vector\n",
        "\n",
        "def averaged_word_vectorizer(corpus, model, num_features):\n",
        "    vocabulary = set(model.wv.index2word)\n",
        "    features = [average_word_vectors(tokenized_sentence, model, vocabulary, num_features)\n",
        "                    for tokenized_sentence in corpus]\n",
        "    return np.array(features)\n",
        "\n",
        "\n",
        "def tfidf_wtd_avg_word_vectors(words, tfidf_vector, tfidf_vocabulary, model, num_features):\n",
        "    \n",
        "    word_tfidfs = [tfidf_vector[0, tfidf_vocabulary.get(word)] \n",
        "                   if tfidf_vocabulary.get(word) \n",
        "                   else 0 for word in words]    \n",
        "    word_tfidf_map = {word:tfidf_val for word, tfidf_val in zip(words, word_tfidfs)}\n",
        "    \n",
        "    feature_vector = np.zeros((num_features,),dtype=\"float64\")\n",
        "    vocabulary = set(model.wv.index2word)\n",
        "    wts = 0.\n",
        "    for word in words:\n",
        "        if word in vocabulary: \n",
        "            word_vector = model[word]\n",
        "            weighted_word_vector = word_tfidf_map[word] * word_vector\n",
        "            wts = wts + word_tfidf_map[word]\n",
        "            feature_vector = np.add(feature_vector, weighted_word_vector)\n",
        "    if wts:\n",
        "        feature_vector = np.divide(feature_vector, wts)\n",
        "        \n",
        "    return feature_vector\n",
        "\n",
        "def tfidf_weighted_averaged_word_vectorizer(corpus, tfidf_vectors, \n",
        "                                   tfidf_vocabulary, model, num_features):\n",
        "                                       \n",
        "    docs_tfidfs = [(doc, doc_tfidf) \n",
        "                   for doc, doc_tfidf \n",
        "                   in zip(corpus, tfidf_vectors)]\n",
        "    features = [tfidf_wtd_avg_word_vectors(tokenized_sentence, tfidf, tfidf_vocabulary,\n",
        "                                   model, num_features)\n",
        "                    for tokenized_sentence, tfidf in docs_tfidfs]\n",
        "    return np.array(features) \n",
        "\n",
        "\n",
        "def predictLogisticalRegressionWithWord2Vec(dataframe, corpusText, labelText, splitPercentage, description, ngrams, runCoeffecient = True):\n",
        "    \n",
        "    svm = SGDClassifier(loss='hinge', max_iter = 100)\n",
        "    \n",
        "    # differentiate the data for train and test sets \n",
        "    train_corpus, test_corpus, train_labels, test_labels = prepare_datasets(dataframe[corpusText],\n",
        "                                                                                dataframe[labelText],\n",
        "                                                                                test_data_proportion=splitPercentage)\n",
        "    \n",
        "    # tokenize documents\n",
        "    tokenized_train = [nltk.word_tokenize(text)\n",
        "                       for text in train_corpus]\n",
        "    tokenized_test = [nltk.word_tokenize(text)\n",
        "                       for text in test_corpus]\n",
        "    \n",
        "    model = gensim.models.Word2Vec(tokenized_train,\n",
        "                               size=500,\n",
        "                               window=100,\n",
        "                               min_count=30,\n",
        "                               sample=1e-3)\n",
        "    \n",
        "    tfidf_vectorizer, tfidf_train_features = tfidf_extractor(train_corpus, ngrams)  \n",
        "    tfidf_test_features = tfidf_vectorizer.transform(test_corpus)\n",
        "    \n",
        "    # averaged word vector features\n",
        "    avg_wv_train_features = averaged_word_vectorizer(corpus=tokenized_train,\n",
        "                                                     model=model.wv,\n",
        "                                                     num_features=500)                   \n",
        "    avg_wv_test_features = averaged_word_vectorizer(corpus=tokenized_test,\n",
        "                                                    model=model.wv,\n",
        "                                                    num_features=500)                                                 \n",
        "\n",
        "\n",
        "\n",
        "    # tfidf weighted averaged word vector features\n",
        "    vocab = tfidf_vectorizer.vocabulary_\n",
        "    tfidf_wv_train_features = tfidf_weighted_averaged_word_vectorizer(corpus=tokenized_train, \n",
        "                                                                      tfidf_vectors=tfidf_train_features, \n",
        "                                                                      tfidf_vocabulary=vocab, \n",
        "                                                                      model=model, \n",
        "                                                                      num_features=500)\n",
        "    \n",
        "    \n",
        "    tfidf_wv_test_features = tfidf_weighted_averaged_word_vectorizer(corpus=tokenized_test, \n",
        "                                                                     tfidf_vectors=tfidf_test_features, \n",
        "                                                                     tfidf_vocabulary=vocab, \n",
        "                                                                     model=model, \n",
        "                                                                     num_features=500)\n",
        "    \n",
        "    \n",
        "    \n",
        "    description = \"SVM with ngrams and averaged vector features\"\n",
        "    \n",
        "    # Support Vector Machine with averaged word vector features\n",
        "    svm_avgwv_predictions = train_predict_evaluate_model(classifier=svm,\n",
        "                                               train_features=avg_wv_train_features,\n",
        "                                               train_labels=train_labels,\n",
        "                                               test_features=avg_wv_test_features,\n",
        "                                               test_labels=test_labels,\n",
        "                                                text = description)\n",
        "    \n",
        "    # cross validation error \n",
        "    #print_cross_validation_model_measurements(svm, svm_avgwv_predictions, test_labels)\n",
        "    \n",
        "    \n",
        "    \n",
        "    if runCoeffecient :\n",
        "        cm = getConfussionMatrix(test_labels, svm_avgwv_predictions, description) \n",
        "        getCoeeffienct(svm, tfidf_vectorizer, description)\n",
        "    \n",
        "    \n",
        "    description = \"SVM with ngrams and tfid weigted word vector features\"\n",
        "    \n",
        "    # Support Vector Machine with tfidf weighted averaged word vector features\n",
        "    svm_tfidfwv_predictions = train_predict_evaluate_model(classifier=svm,\n",
        "                                               train_features=tfidf_wv_train_features,\n",
        "                                               train_labels=train_labels,\n",
        "                                               test_features=tfidf_wv_test_features,\n",
        "                                               test_labels=test_labels,\n",
        "                                                text = description)\n",
        "    \n",
        "    \n",
        "    # cross validation error \n",
        "    #print_cross_validation_model_measurements(svm, svm_tfidfwv_predictions, test_labels)\n",
        "    \n",
        "    \n",
        "    \n",
        "    if runCoeffecient :\n",
        "        cm = getConfussionMatrix(test_labels, svm_tfidfwv_predictions, description) \n",
        "        getCoeeffienct(svm, tfidf_vectorizer, description)\n",
        "        \n",
        "        \n",
        "        \n",
        "        \n",
        "#data['IsHateSpeechNumeric'] = data.apply(lambda row: 1 if row.IsHateSpeech == \"YES\" else 0 , axis=1)\n",
        "        \n",
        "# run the same logistical regession model with more ngrams \n",
        "predictLogisticalRegressionWithWord2Vec(data, \"FullText\", \"IsHateSpeech\", 0.2,  \"Full data set\", (1,3), False)\n",
        "\n",
        "\n",
        "#https://towardsdatascience.com/multi-class-text-classification-model-comparison-and-selection-5eb066197568"
      ],
      "execution_count": 26,
      "outputs": [
        {
          "output_type": "stream",
          "text": "------------------------Model metrice for SVM with ngrams and averaged vector features------------------------\nAccuracy: 0.54\nPrecision: 0.3\nRecall: 0.54\nF1 Score: 0.38\n------------------------Model metrice for SVM with ngrams and tfid weigted word vector features------------------------\nAccuracy: 0.54\nPrecision: 0.3\nRecall: 0.54\nF1 Score: 0.38\n",
          "name": "stdout"
        }
      ]
    },
    {
      "metadata": {},
      "cell_type": "markdown",
      "source": [
        "- we apply the same model using word 2 vec "
      ]
    },
    {
      "metadata": {},
      "cell_type": "markdown",
      "source": [
        "### Answer (g)\n",
        "\n",
        "To evaluate we \n",
        "1. First we implement the same data set using all 3 methods (Naive Bayse, Lininer Model and Loagistic Regression) in simple form\n"
      ]
    },
    {
      "metadata": {
        "trusted": true
      },
      "cell_type": "code",
      "source": [
        "from sklearn.naive_bayes import MultinomialNB\n",
        "from sklearn.pipeline import Pipeline\n",
        "from sklearn.feature_extraction.text import TfidfTransformer\n",
        "from sklearn.metrics import accuracy_score\n",
        "\n",
        "X = data['FullText'].values.tolist()\n",
        "y = data['IsHateSpeech'].values.tolist()\n",
        "tags = ['YES', 'NO']\n",
        "\n",
        "X_train, X_test, y_train, y_test = train_test_split(X, y, test_size=0.2, random_state = 42)"
      ],
      "execution_count": 27,
      "outputs": []
    },
    {
      "metadata": {},
      "cell_type": "markdown",
      "source": [
        "### Naive Bayse"
      ]
    },
    {
      "metadata": {
        "trusted": true
      },
      "cell_type": "code",
      "source": [
        "nb = Pipeline([('vect', CountVectorizer()),\n",
        "               ('tfidf', TfidfTransformer()),\n",
        "               ('clf', MultinomialNB()),\n",
        "              ])\n",
        "nb.fit(X_train, y_train)\n",
        "\n",
        "from sklearn.metrics import classification_report\n",
        "y_pred = nb.predict(X_test)\n",
        "\n",
        "print('accuracy %s' % accuracy_score(y_pred, y_test))\n",
        "print(classification_report(y_test, y_pred,target_names=tags))"
      ],
      "execution_count": 28,
      "outputs": [
        {
          "output_type": "stream",
          "text": "accuracy 0.69\n              precision    recall  f1-score   support\n\n         YES       0.66      0.91      0.76       272\n          NO       0.80      0.43      0.56       228\n\n   micro avg       0.69      0.69      0.69       500\n   macro avg       0.73      0.67      0.66       500\nweighted avg       0.72      0.69      0.67       500\n\n",
          "name": "stdout"
        }
      ]
    },
    {
      "metadata": {},
      "cell_type": "markdown",
      "source": [
        "### Liner Regression"
      ]
    },
    {
      "metadata": {
        "trusted": true
      },
      "cell_type": "code",
      "source": [
        "from sklearn.linear_model import SGDClassifier\n",
        "\n",
        "sgd = Pipeline([('vect', CountVectorizer()),\n",
        "                ('tfidf', TfidfTransformer()),\n",
        "                ('clf', SGDClassifier(loss='hinge', penalty='l2',alpha=1e-3, random_state=42, max_iter=5, tol=None)),\n",
        "               ])\n",
        "sgd.fit(X_train, y_train)\n",
        "\n",
        "y_pred = sgd.predict(X_test)\n",
        "\n",
        "print('accuracy %s' % accuracy_score(y_pred, y_test))\n",
        "print(classification_report(y_test, y_pred,target_names=tags))"
      ],
      "execution_count": 29,
      "outputs": [
        {
          "output_type": "stream",
          "text": "accuracy 0.674\n              precision    recall  f1-score   support\n\n         YES       0.64      0.89      0.75       272\n          NO       0.76      0.41      0.54       228\n\n   micro avg       0.67      0.67      0.67       500\n   macro avg       0.70      0.65      0.64       500\nweighted avg       0.70      0.67      0.65       500\n\n",
          "name": "stdout"
        }
      ]
    },
    {
      "metadata": {},
      "cell_type": "markdown",
      "source": [
        "### Logistical Rgression"
      ]
    },
    {
      "metadata": {
        "trusted": true
      },
      "cell_type": "code",
      "source": [
        "from sklearn.linear_model import LogisticRegression\n",
        "\n",
        "logreg = Pipeline([('vect', CountVectorizer()),\n",
        "                ('tfidf', TfidfTransformer()),\n",
        "                ('clf', LogisticRegression(n_jobs=1, C=1e5)),\n",
        "               ])\n",
        "logreg.fit(X_train, y_train)\n",
        "\n",
        "y_pred = logreg.predict(X_test)\n",
        "\n",
        "print('accuracy %s' % accuracy_score(y_pred, y_test))\n",
        "print(classification_report(y_test, y_pred,target_names=tags))"
      ],
      "execution_count": 30,
      "outputs": [
        {
          "output_type": "stream",
          "text": "accuracy 0.648\n              precision    recall  f1-score   support\n\n         YES       0.66      0.72      0.69       272\n          NO       0.63      0.57      0.59       228\n\n   micro avg       0.65      0.65      0.65       500\n   macro avg       0.64      0.64      0.64       500\nweighted avg       0.65      0.65      0.65       500\n\n",
          "name": "stdout"
        }
      ]
    },
    {
      "metadata": {},
      "cell_type": "markdown",
      "source": [
        "### Part G evaluation \n",
        "\n",
        "The individual results where almost same with acuraccy values when there were run sepratly with different functionalities . From the above result we can eveluate that Naive Bayse gave the best result for the data set. There would be less overfitting as the results predicated for test sets where not everly high values. \n",
        "\n",
        "Finally in case of sinhala hate speech we would have to implement more models with corpuses whihc had spelling mistakes fixed .  Additonally as there is not a propper way of defining singlish words we coul have to create corpuses which defines sinhala word eqvanlt in singlish word so that we could finally convert the singlish word to shinhala and then  run the full predictions whihc would help provide better results in Hate speach identification .\n"
      ]
    },
    {
      "metadata": {
        "trusted": true
      },
      "cell_type": "markdown",
      "source": [
        "### Comperitive Study Implemnetation\n",
        "\n",
        "We implement a RNN (sequential based) modelining as the data set is quite large and we could use sequnce based learning (leaning from one text to another ) to identify hate speach in sinhala"
      ]
    },
    {
      "metadata": {
        "trusted": true
      },
      "cell_type": "code",
      "source": [
        "#https://github.com/tensorflow/workshops/blob/master/extras/keras-bag-of-words/keras-bow-model.ipynb?source=post_page---------------------------\n",
        "\n",
        "import itertools\n",
        "import os\n",
        "\n",
        "import matplotlib.pyplot as plt\n",
        "import numpy as np\n",
        "import pandas as pd\n",
        "import tensorflow as tf\n",
        "\n",
        "from sklearn.preprocessing import LabelBinarizer, LabelEncoder\n",
        "from sklearn.metrics import confusion_matrix\n",
        "\n",
        "from tensorflow import keras\n",
        "from keras.models import Sequential\n",
        "from keras.layers import Dense, Activation, Dropout\n",
        "from keras.preprocessing import text, sequence\n",
        "from keras import utils\n",
        "\n",
        "# separate the data in to training and test sets \n",
        "train_size = int(len(data) * .8)\n",
        "train_posts = X[:train_size]\n",
        "train_tags = y[:train_size]\n",
        "\n",
        "test_posts = X[train_size:]\n",
        "test_tags = y[train_size:]\n",
        "\n",
        "# Use tokenizer methods to count the unique words in our vocabulary and assign each of those words to indices.\n",
        "max_words = 1000\n",
        "\n",
        "# We limit our vocabulary to the top words by passing a num_words param to the tokenizer.\n",
        "tokenize = text.Tokenizer(num_words=max_words, char_level=False)\n",
        "# Calling fit_on_texts() automatically creates a word index lookup of our vocabulary.\n",
        "tokenize.fit_on_texts(train_posts) # only fit on train\n",
        "\n",
        "# With our tokenizer, we can now use the texts_to_matrix method to create the training data that we’ll pass our model.\n",
        "x_train = tokenize.texts_to_matrix(train_posts)\n",
        "x_test = tokenize.texts_to_matrix(test_posts)\n",
        "\n",
        "#We feed a one-hot vector to our model.\n",
        "encoder = LabelEncoder()\n",
        "encoder.fit(train_tags)\n",
        "\n",
        "#After we transform our features and labels in a format Keras can read, we are ready to build our text classification model.\n",
        "y_train = encoder.transform(train_tags)\n",
        "y_test = encoder.transform(test_tags)\n",
        "\n",
        "\n",
        "#When we build our model, all we need to do is tell Keras the shape of our input data, output data, and the type of each layer. keras will look after the rest.\n",
        "num_classes = np.max(y_train) + 1\n",
        "y_train = utils.to_categorical(y_train, num_classes)\n",
        "y_test = utils.to_categorical(y_test, num_classes)\n",
        "\n",
        "batch_size = 32\n",
        "epochs = 2\n",
        "\n",
        "# Build the model\n",
        "model = Sequential()\n",
        "model.add(Dense(512, input_shape=(max_words,)))\n",
        "model.add(Activation('relu'))\n",
        "model.add(Dropout(0.5))\n",
        "model.add(Dense(num_classes))\n",
        "model.add(Activation('softmax'))\n",
        "\n",
        "model.compile(loss='categorical_crossentropy',\n",
        "              optimizer='adam',\n",
        "              metrics=['accuracy'])\n",
        "\n",
        "#When training the model, we’ll call the fit() method, pass it our training data and labels, batch size and epochs.\n",
        "history = model.fit(x_train, y_train,\n",
        "                    batch_size=batch_size,\n",
        "                    epochs=epochs,\n",
        "                    verbose=1,\n",
        "                    validation_split=0.1)\n"
      ],
      "execution_count": 35,
      "outputs": [
        {
          "output_type": "stream",
          "text": "Train on 1800 samples, validate on 200 samples\nEpoch 1/2\n1800/1800 [==============================] - 2s 1ms/step - loss: 0.6723 - acc: 0.5811 - val_loss: 0.5972 - val_acc: 0.7600\nEpoch 2/2\n1800/1800 [==============================] - 1s 809us/step - loss: 0.5330 - acc: 0.7894 - val_loss: 0.5170 - val_acc: 0.7850\n",
          "name": "stdout"
        }
      ]
    },
    {
      "metadata": {
        "trusted": true
      },
      "cell_type": "code",
      "source": [
        "score = model.evaluate(x_test, y_test,\n",
        "                       batch_size=batch_size, verbose=1)\n",
        "print('Test accuracy:', score[1])"
      ],
      "execution_count": 36,
      "outputs": [
        {
          "output_type": "stream",
          "text": "500/500 [==============================] - 0s 165us/step\nTest accuracy: 0.72\n",
          "name": "stdout"
        }
      ]
    },
    {
      "metadata": {
        "trusted": true
      },
      "cell_type": "code",
      "source": [],
      "execution_count": null,
      "outputs": []
    }
  ],
  "metadata": {
    "kernelspec": {
      "name": "python36",
      "display_name": "Python 3.6",
      "language": "python"
    },
    "language_info": {
      "mimetype": "text/x-python",
      "nbconvert_exporter": "python",
      "name": "python",
      "pygments_lexer": "ipython3",
      "version": "3.6.6",
      "file_extension": ".py",
      "codemirror_mode": {
        "version": 3,
        "name": "ipython"
      }
    }
  },
  "nbformat": 4,
  "nbformat_minor": 2
}