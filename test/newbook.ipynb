{
  "cells": [
    {
      "metadata": {
        "trusted": true
      },
      "cell_type": "code",
      "source": "import pandas as pd\nd = {'name':['bil','bil','bil','jim'],\n     'date': ['2018-02-27 14:55:29', '2018-03-27 15:55:29', '2018-02-28 19:55:29','2018-02-28 19:55:29'], \n     'col2': [3,'', 4,''],\n     'col3': [1,2,3,55]\n    }\ndf2 = pd.DataFrame(data=d)\nrow = df2.loc[df2['name']=='jim']\n\nprint(row[\"date\"])",
      "execution_count": 10,
      "outputs": [
        {
          "output_type": "stream",
          "text": "3    2018-02-28 19:55:29\nName: date, dtype: object\n",
          "name": "stdout"
        }
      ]
    },
    {
      "metadata": {
        "trusted": true
      },
      "cell_type": "code",
      "source": "",
      "execution_count": null,
      "outputs": []
    }
  ],
  "metadata": {
    "kernelspec": {
      "name": "python36",
      "display_name": "Python 3.6",
      "language": "python"
    },
    "language_info": {
      "mimetype": "text/x-python",
      "nbconvert_exporter": "python",
      "name": "python",
      "pygments_lexer": "ipython3",
      "version": "3.6.6",
      "file_extension": ".py",
      "codemirror_mode": {
        "version": 3,
        "name": "ipython"
      }
    }
  },
  "nbformat": 4,
  "nbformat_minor": 2
}